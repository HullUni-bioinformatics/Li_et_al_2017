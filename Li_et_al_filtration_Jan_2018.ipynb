{
 "cells": [
  {
   "cell_type": "markdown",
   "metadata": {},
   "source": [
    "# metaBEAT analysis of Illumina MiSeq output for Li_et_al_2018"
   ]
  },
  {
   "cell_type": "markdown",
   "metadata": {},
   "source": [
    "Mark sure your metaBEAT image version is the latest\n",
    "\n",
    "`metaBEAT - metaBarcoding and Environmental DNA Analyses tool version: v.0.97.8-global`\n",
    "\n",
    "Update from your terminal\n",
    "\n",
    "####check the image, the latest ID should be 1f9e1e7d4566\n",
    "\n",
    "sudo docker images\n",
    "####if not, use the command to update the image from your terminal\n",
    "\n",
    "sudo docker pull chrishah/metabeat\n"
   ]
  },
  {
   "cell_type": "markdown",
   "metadata": {},
   "source": [
    "###The first step will be to trim/clean our raw Illumina data"
   ]
  },
  {
   "cell_type": "code",
   "execution_count": 1,
   "metadata": {
    "collapsed": false
   },
   "outputs": [
    {
     "name": "stdout",
     "output_type": "stream",
     "text": [
      "/home/working\r\n"
     ]
    }
   ],
   "source": [
    "!pwd"
   ]
  },
  {
   "cell_type": "code",
   "execution_count": 2,
   "metadata": {
    "collapsed": true
   },
   "outputs": [],
   "source": [
    "!mkdir trimming"
   ]
  },
  {
   "cell_type": "code",
   "execution_count": 3,
   "metadata": {
    "collapsed": false
   },
   "outputs": [
    {
     "name": "stdout",
     "output_type": "stream",
     "text": [
      "/home/working/trimming\n"
     ]
    }
   ],
   "source": [
    "cd trimming"
   ]
  },
  {
   "cell_type": "markdown",
   "metadata": {},
   "source": [
    "__Prepare Querymap__"
   ]
  },
  {
   "cell_type": "markdown",
   "metadata": {},
   "source": [
    "\n",
    "Prepare a text file specifying the samples to be processed including the format and location of the reads. \n",
    "\n",
    "The below command expects the Illumina data to be present in 2 fastq files (forward and reverse reads) per sample in a directory `./raw_reads/`. It expects the files to be named 'sampleID', followed by '_R1' or '_R2' to identify the forward/reverse read file respectively. \n",
    "\n",
    "The raw data need to be downloaded with `How_to_download_Rawdata_from_SRA.ipynb` (see [here](https://github.com/HullUni-bioinformatics/Li_et_al_2017/blob/master/raw_reads/How_to_download_Rawdata_from_SRA.ipynb))\n",
    "\n",
    "SampleID must corresponds to the first column in the file `Sample_accessions.tsv` (see [here](https://github.com/HullUni-bioinformatics/Li_et_al_2017/blob/master/supplementary_data/Sample_accessions.tsv)), marker is '12S'.\n",
    "\n",
    "\n"
   ]
  },
  {
   "cell_type": "code",
   "execution_count": 4,
   "metadata": {
    "collapsed": true
   },
   "outputs": [],
   "source": [
    "\n",
    "%%bash\n",
    "\n",
    "for a in $(cat ../supplementary_data/Sample_accessions.tsv | grep \"12S\" | cut -f 1 | grep \"SampleID\" -v)\n",
    "do\n",
    "    R1=$(ls -1 ../raw_reads/$a-12S_* | grep \"_R1.fastq\")\n",
    "    R2=$(ls -1 ../raw_reads/$a-12S_* | grep \"_R2.fastq\")\n",
    "\n",
    "    echo -e \"$a\\tfastq\\t$R1\\t$R2\"\n",
    "done > Querymap.txt"
   ]
  },
  {
   "cell_type": "markdown",
   "metadata": {},
   "source": [
    "The resulting file should look e.g. like below:"
   ]
  },
  {
   "cell_type": "code",
   "execution_count": 5,
   "metadata": {
    "collapsed": false
   },
   "outputs": [
    {
     "name": "stdout",
     "output_type": "stream",
     "text": [
      "T1-1-1\tfastq\t../raw_reads/T1-1-1-12S_R1.fastq.gz\t../raw_reads/T1-1-1-12S_R2.fastq.gz\r\n",
      "T1-1-2\tfastq\t../raw_reads/T1-1-2-12S_R1.fastq.gz\t../raw_reads/T1-1-2-12S_R2.fastq.gz\r\n",
      "T1-1-3\tfastq\t../raw_reads/T1-1-3-12S_R1.fastq.gz\t../raw_reads/T1-1-3-12S_R2.fastq.gz\r\n",
      "T1-1-4\tfastq\t../raw_reads/T1-1-4-12S_R1.fastq.gz\t../raw_reads/T1-1-4-12S_R2.fastq.gz\r\n",
      "T1-1-5\tfastq\t../raw_reads/T1-1-5-12S_R1.fastq.gz\t../raw_reads/T1-1-5-12S_R2.fastq.gz\r\n",
      "T1-2-1\tfastq\t../raw_reads/T1-2-1-12S_R1.fastq.gz\t../raw_reads/T1-2-1-12S_R2.fastq.gz\r\n",
      "T1-2-2\tfastq\t../raw_reads/T1-2-2-12S_R1.fastq.gz\t../raw_reads/T1-2-2-12S_R2.fastq.gz\r\n",
      "T1-2-3\tfastq\t../raw_reads/T1-2-3-12S_R1.fastq.gz\t../raw_reads/T1-2-3-12S_R2.fastq.gz\r\n",
      "T1-2-4\tfastq\t../raw_reads/T1-2-4-12S_R1.fastq.gz\t../raw_reads/T1-2-4-12S_R2.fastq.gz\r\n",
      "T1-2-5\tfastq\t../raw_reads/T1-2-5-12S_R1.fastq.gz\t../raw_reads/T1-2-5-12S_R2.fastq.gz\r\n"
     ]
    }
   ],
   "source": [
    "!head Querymap.txt"
   ]
  },
  {
   "cell_type": "markdown",
   "metadata": {},
   "source": [
    "\n",
    "The 12S amplicon sequenced here is only 106bp long. Readlength used in the MiSeq run was 2x250bp. Our reads are thus longer than our amplicon and we so expect to find primer/adapter sequences in our reads that need to be removed as part of the raw data processing. \n",
    "\n",
    "Specifically, forward reads are expected to contain the reverse complement of the reverse primer plus the reverse Illumina adapter (FA501-FA508; FB501-FB508), and reverse reads will contain reverse complements of the forward primers and adapters (RA701-RA712;RB701-RB712).\n",
    "\n",
    "The expected sequences have been produced from `12S-adapters.fasta` (see [here](https://github.com/HullUni-bioinformatics/Li_et_al_2017/blob/master/12S-adapters.fasta)) into reverse complements `12S-adapters_rc.fasta` and will be used in the trimming algorithm."
   ]
  },
  {
   "cell_type": "code",
   "execution_count": null,
   "metadata": {
    "collapsed": true
   },
   "outputs": [],
   "source": [
    "from Bio import SeqIO\n",
    "from Bio.SeqRecord import SeqRecord\n",
    "for record in SeqIO.parse(\"../12S-adapters.fasta\", \"fasta\"):\n",
    "    print record.id + \"_rc\"\n",
    "    print record.seq.reverse_complement()\n",
    "\n",
    "def make_rc_record(record):\n",
    "    \"\"\"Returns a new SeqRecord with the reverse complement sequence.\"\"\"\n",
    "    return SeqRecord(seq = record.seq.reverse_complement(), \\\n",
    "                 id = record.id + \"_rc\", \\\n",
    "                 description = \"reverse complement\")\n",
    "\n",
    "records = map(make_rc_record, SeqIO.parse(\"../12S-adapters.fasta\", \"fasta\"))\n",
    "SeqIO.write(records, \"../12S-adapters_rc.fasta\", \"fasta\")\n"
   ]
  },
  {
   "cell_type": "code",
   "execution_count": 7,
   "metadata": {
    "collapsed": false
   },
   "outputs": [
    {
     "name": "stdout",
     "output_type": "stream",
     "text": [
      ">FA501_rc reverse complement\r\n",
      "GGGGTATCTAATCCCAGTCCAATTACCATACGTACGATGTGTAGATCTCGGTGGTCGCCG\r\n",
      "TATCATT\r\n",
      ">FA502_rc reverse complement\r\n",
      "GGGGTATCTAATCCCAGTCCAATTACCATACAGATAGTGTGTAGATCTCGGTGGTCGCCG\r\n",
      "TATCATT\r\n",
      ">FA503_rc reverse complement\r\n",
      "GGGGTATCTAATCCCAGTCCAATTACCATAACTCGCTAGTGTAGATCTCGGTGGTCGCCG\r\n",
      "TATCATT\r\n",
      ">FA504_rc reverse complement\r\n"
     ]
    }
   ],
   "source": [
    "!head -10 ../12S-adapters_rc.fasta"
   ]
  },
  {
   "cell_type": "markdown",
   "metadata": {},
   "source": [
    "###Raw data trimming, removal of adapter sequences and merging of reads using the `metaBEAT` pipeline"
   ]
  },
  {
   "cell_type": "markdown",
   "metadata": {
    "collapsed": true
   },
   "source": [
    "__The manual of metaBEAT_global.py can run the command as below__\n",
    "\n",
    "!metaBEAT_global.py -h"
   ]
  },
  {
   "cell_type": "code",
   "execution_count": 8,
   "metadata": {
    "collapsed": true
   },
   "outputs": [],
   "source": [
    "%%bash\n",
    "\n",
    "metaBEAT_global.py \\\n",
    "-Q Querymap.txt \\\n",
    "--trim_qual 30 \\\n",
    "--trim_adapter ../12S-adapters_rc.fasta \\\n",
    "--trim_minlength 90 \\\n",
    "--merge \\\n",
    "--product_length 110 \\\n",
    "--forward_only \\\n",
    "--read_crop 106 \\\n",
    "-@ haikuilee@gmail.com \\\n",
    "-n 5 -v &> log"
   ]
  },
  {
   "cell_type": "markdown",
   "metadata": {},
   "source": [
    "__Query survival after trimming__"
   ]
  },
  {
   "cell_type": "markdown",
   "metadata": {},
   "source": [
    "Some stats on the read counts before/after trimming, merging etc. are summarized for you in `metaBEAT_read_stats.csv`."
   ]
  },
  {
   "cell_type": "code",
   "execution_count": 9,
   "metadata": {
    "collapsed": false
   },
   "outputs": [
    {
     "data": {
      "text/plain": [
       "<matplotlib.axes.AxesSubplot at 0x7f17c37df210>"
      ]
     },
     "execution_count": 9,
     "metadata": {},
     "output_type": "execute_result"
    },
    {
     "data": {
      "image/png": "[encoded data removed]",
      "text/plain": [
       "<matplotlib.figure.Figure at 0x7f17c3c6fe50>"
      ]
     },
     "metadata": {},
     "output_type": "display_data"
    }
   ],
   "source": [
    "%matplotlib inline\n",
    "import pandas as pd\n",
    "\n",
    "df = pd.read_csv('metaBEAT_read_stats.csv',index_col=0)\n",
    "df['fraction'] = df['queries']/(df['total']*0.5)\n",
    "df.fraction.hist(bins=50)"
   ]
  },
  {
   "cell_type": "code",
   "execution_count": 10,
   "metadata": {
    "collapsed": false
   },
   "outputs": [
    {
     "name": "stdout",
     "output_type": "stream",
     "text": [
      "/home/working\n"
     ]
    }
   ],
   "source": [
    "cd ../"
   ]
  },
  {
   "cell_type": "markdown",
   "metadata": {},
   "source": [
    "###Next stage of the processing is chimera detection and removal of putative chimeric sequences\n",
    "\n",
    "We'll do that using `uchime` as implemented in `vsearch`."
   ]
  },
  {
   "cell_type": "code",
   "execution_count": 11,
   "metadata": {
    "collapsed": true
   },
   "outputs": [],
   "source": [
    "!mkdir chimera_detection"
   ]
  },
  {
   "cell_type": "code",
   "execution_count": 12,
   "metadata": {
    "collapsed": false
   },
   "outputs": [
    {
     "name": "stdout",
     "output_type": "stream",
     "text": [
      "/home/working/chimera_detection\n"
     ]
    }
   ],
   "source": [
    "cd chimera_detection"
   ]
  },
  {
   "cell_type": "markdown",
   "metadata": {},
   "source": [
    "Convert reference database from Genbank to fasta format to be used in chimera detection.\n",
    "\n",
    "Prepare Refmap file, i.e. text file that specifies the location and the format of the reference to be used.\n",
    "\n",
    "The reference sequences in Genbank format should already be present in the `supplementary_data` directory: `12S_Fish_SATIVA_cleaned_May_2017.gb`."
   ]
  },
  {
   "cell_type": "code",
   "execution_count": 13,
   "metadata": {
    "collapsed": false,
    "scrolled": true
   },
   "outputs": [],
   "source": [
    "%%bash\n",
    "\n",
    "#Write REFmap\n",
    "for file in $(ls -1 ../supplementary_data/reference_DBs/* | grep \"12S_Fish_SATIVA_cleaned_May_2017.gb$\")\n",
    "do\n",
    "      echo -e \"$file\\tgb\"\n",
    "done > REFmap.txt\n",
    "\n"
   ]
  },
  {
   "cell_type": "code",
   "execution_count": 14,
   "metadata": {
    "collapsed": false
   },
   "outputs": [
    {
     "name": "stdout",
     "output_type": "stream",
     "text": [
      "../supplementary_data/reference_DBs/12S_Fish_SATIVA_cleaned_May_2017.gb\tgb\r\n"
     ]
    }
   ],
   "source": [
    "!cat REFmap.txt"
   ]
  },
  {
   "cell_type": "code",
   "execution_count": null,
   "metadata": {
    "collapsed": true
   },
   "outputs": [],
   "source": [
    "%%bash\n",
    "\n",
    "metaBEAT_global.py \\\n",
    "-R REFmap.txt \\\n",
    "-f"
   ]
  },
  {
   "cell_type": "code",
   "execution_count": 16,
   "metadata": {
    "collapsed": false
   },
   "outputs": [
    {
     "name": "stdout",
     "output_type": "stream",
     "text": [
      ">KC292935|7962|Cyprinus carpio\r\n",
      "CCAGAAAAGAGAGATTTTAACTCTCACCCCTGGCTCCCAAAGCCAGAATTCTAAACTAAACTATTTTCTGGGGAGGTAGCACTCCCTTTATGGTATAGTACATATTATGCATAATATTACATTAATGTATTAGTACATATATGTATTATCACCAACTCACTATTTTAACCATAAAGCAGGTACATAATATTAAGGTGGGCATAAAGCATATTATTAAGACTCACAAATTCTATTATTTGGACTTGAGTAATATATTAATCCCCAAAAATTTGTCCTCAAATTTTTCCTTGAAATAATCAACTATAATTCCATTTAAACATATTAATGTAGTAAGAGACCACCAACCAGTTTATATAAAGGTATATCATGAATGATAGAATCAAGGACAATAATTGTGAGGGTTACACAATATGAACTATTACTGGCATCTGGTTCCTATTTCAGGGACATAACTGTAATATTCCACCCTCGGATAATTATACTGGCATCTGATTAATGGTGTAAGTACATACGTTTCATTACCCCCCATGCCGAGCATTCTTTTATATGCATAAGGTATTTTTTATTGGTTTCCTTTCATCTGGCATTTCAGAGTGCAGGCTCAAATGTTAAATCAAGGTTGAACATTTTCCTTGTATGTGATAATATATATTAATTATCGTAAGACATAATTTAAGAATTACATACTTTTATCTCAAGTGCATAATATATCTGTCTCTAGTTCAACTTATCCTTACATAGTGCCCCCTTTGGTTTTTGCGCGACAAACCCCCTTACCCCCTACGCTCAGCGAATCCTGTTATCCTTGTCAAACCCCGAAACCAAGGAGGACCCAAGAACGTGTAAACCAACGAGTTGAGGTATAAATTGGCATCCCATTATATATATATATATATATGCATCGGTTTTTTTAACCGCAACTTACCACTTACCTAAAAGCCCCTACCAAAAATCCCCAAAAAGAGGCTCGGCACTAAATACTCTAATATAATTAATCAGCTAGCGTAGCTTAACACAAAGCATAGCACTGAAGATGCTAAGATGAGTCCTAAAAAACTCCGCATGCACAAAGGCATGGTCCCGACCTTATTATCAGCTCTAACTCAACTTACACATGCAAGTCTCCGCAACCCAGTGAATATGCCCTCAATCCCCCCACCCGGGGACGAGGAGCGGGCATCAGGCACAAACATTAGCCCAAGACGCCTAGCCAAGCCACACCCCCAAGGGAATTCAGCAGTGATAAACATTAAGCCATAAGTGAAAACTTGACTCAGTTAGTGTTAAGAGGGCCGGTAAAACTCGTGCCAGCCACCGCGGTTAGACGAGAGGCCCTAGTTGATATTACAACGGCGTAAAGGGTGGTTAAGGATAAACAAAAATAAAGTCAAATGGCCCCTTGGCCGTCATACGCTTCTAGGAGTCCGAAGCCCTAATACGAAAGTAACTTAATAAACCCACC\r\n"
     ]
    }
   ],
   "source": [
    "!head -2 refs.fasta"
   ]
  },
  {
   "cell_type": "markdown",
   "metadata": {},
   "source": [
    "This will produce `refs.fasta`.\n",
    "\n",
    "Now run chimera detection."
   ]
  },
  {
   "cell_type": "code",
   "execution_count": null,
   "metadata": {
    "collapsed": true
   },
   "outputs": [],
   "source": [
    "%%bash\n",
    "\n",
    "\n",
    "for a in $(cut -f 1 ../trimming/Querymap.txt)\n",
    "do\n",
    "    if [ -s ../trimming/$a/$a\\_trimmed.fasta ]\n",
    "    then\n",
    "        echo -e \"\\n### Detecting chimeras in $a ###\\n\"\n",
    "        mkdir $a\n",
    "        cd $a\n",
    "        vsearch --uchime_ref ../../trimming/$a/$a\\_trimmed.fasta --db ../refs.fasta \\\n",
    "        --nonchimeras $a-nonchimeras.fasta --chimeras $a-chimeras.fasta &> log\n",
    "        cd ..\n",
    "\n",
    "    else\n",
    "        echo -e \"$a is empty\"\n",
    "    fi\n",
    "done\n",
    "\n",
    "\n"
   ]
  },
  {
   "cell_type": "markdown",
   "metadata": {},
   "source": [
    "###Last step is taxonomic assignment of reads based on a BLAST - LCA approach using the metaBEAT pipeline"
   ]
  },
  {
   "cell_type": "code",
   "execution_count": 18,
   "metadata": {
    "collapsed": false
   },
   "outputs": [
    {
     "name": "stdout",
     "output_type": "stream",
     "text": [
      "/home/working\n"
     ]
    }
   ],
   "source": [
    "cd .."
   ]
  },
  {
   "cell_type": "code",
   "execution_count": 19,
   "metadata": {
    "collapsed": false,
    "scrolled": true
   },
   "outputs": [],
   "source": [
    "!mkdir non-chimeras"
   ]
  },
  {
   "cell_type": "code",
   "execution_count": 20,
   "metadata": {
    "collapsed": false
   },
   "outputs": [
    {
     "name": "stdout",
     "output_type": "stream",
     "text": [
      "/home/working/non-chimeras\n"
     ]
    }
   ],
   "source": [
    "cd non-chimeras/"
   ]
  },
  {
   "cell_type": "markdown",
   "metadata": {},
   "source": [
    "__Prepare Querymap and Refmap txt files__"
   ]
  },
  {
   "cell_type": "code",
   "execution_count": 21,
   "metadata": {
    "collapsed": true
   },
   "outputs": [],
   "source": [
    "%%bash\n",
    "\n",
    "#Querymap\n",
    "for a in $(ls -l ../chimera_detection/ | grep \"^d\" | perl -ne 'chomp; @a=split(\" \"); print \"$a[-1]\\n\"')\n",
    "do\n",
    "   if [ \"$a\" != \"GLOBAL\" ]\n",
    "   then\n",
    "      echo -e \"$a-nc\\tfasta\\t../chimera_detection/$a/$a-nonchimeras.fasta\"\n",
    "   fi\n",
    "done > Querymap.txt\n",
    "\n",
    "\n",
    "#Write REFmap\n",
    "for file in $(ls -1 ../supplementary_data/reference_DBs/* | grep \"12S_Fish_SATIVA_cleaned_May_2017.gb$\")\n",
    "do\n",
    "      echo -e \"$file\\tgb\"\n",
    "done > REFmap.txt\n",
    "\n",
    "for file in $(ls -1 ../supplementary_data/reference_DBs/* | grep \"Astatotilapia_calliptera.gb$\")\n",
    "do\n",
    "      echo -e \"$file\\tgb\"      \n",
    "      \n",
    "done >> REFmap.txt"
   ]
  },
  {
   "cell_type": "code",
   "execution_count": 22,
   "metadata": {
    "collapsed": false
   },
   "outputs": [
    {
     "name": "stdout",
     "output_type": "stream",
     "text": [
      "T1-1-1-nc\tfasta\t../chimera_detection/T1-1-1/T1-1-1-nonchimeras.fasta\r\n",
      "T1-1-2-nc\tfasta\t../chimera_detection/T1-1-2/T1-1-2-nonchimeras.fasta\r\n",
      "T1-1-3-nc\tfasta\t../chimera_detection/T1-1-3/T1-1-3-nonchimeras.fasta\r\n",
      "T1-1-4-nc\tfasta\t../chimera_detection/T1-1-4/T1-1-4-nonchimeras.fasta\r\n",
      "T1-1-5-nc\tfasta\t../chimera_detection/T1-1-5/T1-1-5-nonchimeras.fasta\r\n",
      "T1-2-1-nc\tfasta\t../chimera_detection/T1-2-1/T1-2-1-nonchimeras.fasta\r\n",
      "T1-2-2-nc\tfasta\t../chimera_detection/T1-2-2/T1-2-2-nonchimeras.fasta\r\n",
      "T1-2-3-nc\tfasta\t../chimera_detection/T1-2-3/T1-2-3-nonchimeras.fasta\r\n",
      "T1-2-4-nc\tfasta\t../chimera_detection/T1-2-4/T1-2-4-nonchimeras.fasta\r\n",
      "T1-2-5-nc\tfasta\t../chimera_detection/T1-2-5/T1-2-5-nonchimeras.fasta\r\n"
     ]
    }
   ],
   "source": [
    "!head Querymap.txt"
   ]
  },
  {
   "cell_type": "code",
   "execution_count": 23,
   "metadata": {
    "collapsed": false
   },
   "outputs": [
    {
     "name": "stdout",
     "output_type": "stream",
     "text": [
      "../supplementary_data/reference_DBs/12S_Fish_SATIVA_cleaned_May_2017.gb\tgb\r\n",
      "../supplementary_data/reference_DBs/Astatotilapia_calliptera.gb\tgb\r\n"
     ]
    }
   ],
   "source": [
    "!cat REFmap.txt"
   ]
  },
  {
   "cell_type": "markdown",
   "metadata": {},
   "source": [
    "__Sequence clustering and taxonomic assignment via metaBEAT__"
   ]
  },
  {
   "cell_type": "code",
   "execution_count": 24,
   "metadata": {
    "collapsed": false,
    "scrolled": true
   },
   "outputs": [],
   "source": [
    "%%bash\n",
    "\n",
    "metaBEAT_global.py \\\n",
    "-Q Querymap.txt \\\n",
    "-R REFmap.txt \\\n",
    "--cluster --clust_match 1 --clust_cov 3 \\\n",
    "--blast --min_ident 1 \\\n",
    "-m 12S -n 5 \\\n",
    "-E -v \\\n",
    "-@ haikuilee@gmail.com \\\n",
    "-o 12S-trim_30-merged-nonchimeras-cluster_1c3-blast-min_ident_1.0 &> log"
   ]
  },
  {
   "cell_type": "markdown",
   "metadata": {},
   "source": [
    "Final result of taxonomic assignment can be found in the table `12S-trim_30-merged-nonchimeras-cluster_1c3-blast-min_ident_1.0-by-taxonomy-readcounts.blast.tsv` (see also [here](https://github.com/HullUni-bioinformatics/Li_et_al_2017/blob/master/supplementary_data/assignment_results/12S-trim_30-merged-nonchimeras-cluster_1c3-blast-min_ident_1.0-by-taxonomy-readcounts.blast.tsv)). \n",
    "\n",
    "metaBEAT also produced the final result in [BIOM](http://biom-format.org/) format (`12S-trim_30-merged-nonchimeras-cluster_1c3-blast-min_ident_1.0-by-taxonomy-readcounts.blast.biom`  see also [here](https://github.com/HullUni-bioinformatics/Li_et_al_2017/blob/master/supplementary_data/assignment_results/12S-trim_30-merged-nonchimeras-cluster_1c3-blast-min_ident_1.0-by-taxonomy-readcounts.blast.biom)), which can be analyzed with a number of tools and visually explored e.g. using [Phinch](http://phinch.org/)."
   ]
  },
  {
   "cell_type": "code",
   "execution_count": null,
   "metadata": {
    "collapsed": true
   },
   "outputs": [],
   "source": []
  }
 ],
 "metadata": {
  "kernelspec": {
   "display_name": "Python 2",
   "language": "python",
   "name": "python2"
  },
  "language_info": {
   "codemirror_mode": {
    "name": "ipython",
    "version": 2
   },
   "file_extension": ".py",
   "mimetype": "text/x-python",
   "name": "python",
   "nbconvert_exporter": "python",
   "pygments_lexer": "ipython2",
   "version": "2.7.6"
  }
 },
 "nbformat": 4,
 "nbformat_minor": 0
}
