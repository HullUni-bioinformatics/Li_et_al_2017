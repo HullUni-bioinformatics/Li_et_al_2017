{
 "cells": [
  {
   "cell_type": "markdown",
   "metadata": {
    "slideshow": {
     "slide_type": "-"
    }
   },
   "source": [
    "\n",
    "Illumina data can be downloaded from SRA using the following workflow.\n",
    "\n",
    "It will requre the [SRA-toolkit](http://www.ncbi.nlm.nih.gov/Traces/sra/?view=toolkit_doc) program `fastq-dump` to be installed on your machine and in your path.\n",
    "\n",
    "If the necessary program is not yet present in your system you can get it as follows:"
   ]
  },
  {
   "cell_type": "code",
   "execution_count": 1,
   "metadata": {
    "collapsed": false
   },
   "outputs": [
    {
     "name": "stdout",
     "output_type": "stream",
     "text": [
      "/home/working\r\n"
     ]
    }
   ],
   "source": [
    "!pwd"
   ]
  },
  {
   "cell_type": "markdown",
   "metadata": {},
   "source": [
    "Make sure the sratoolkit version is the latest one"
   ]
  },
  {
   "cell_type": "code",
   "execution_count": null,
   "metadata": {
    "collapsed": true
   },
   "outputs": [],
   "source": [
    "\n",
    "%%bash\n",
    "\n",
    "mkdir SRA-toolkit\n",
    "cd SRA-toolkit\n",
    "\n",
    "wget ftp://ftp-trace.ncbi.nlm.nih.gov/sra/sdk/current/sratoolkit.current-centos_linux64.tar.gz\n",
    "\n",
    "#decompress the archive\n",
    "tar -xzf sratoolkit.current-centos_linux64.tar.gz\n",
    "\n",
    "#add the fastq-dump executable to your PATH (may require sudo)\n",
    "cp $(pwd)/sratoolkit.2.8.2-1-centos_linux64/bin/fastq-dump /usr/local/bin\n",
    "\n",
    "#remove SRA toolkit files that are not required\n",
    "cd ..\n",
    "rm -rf SRA-toolkit/"
   ]
  },
  {
   "cell_type": "markdown",
   "metadata": {},
   "source": [
    "\n",
    "The following commmand will read through the file Sample_accessions.tsv (see [here](https://github.com/HullUni-bioinformatics/Li_et_al_2017/blob/master/supplementary_data/Sample_accessions.tsv)) and download the relevant raw read files from SRA basd on the accessions provided in column 3 of the file. It will then rename the files according to the sampleID (column 1) and the marker (column 2).Then save the raw data to 'raw_reads' folder"
   ]
  },
  {
   "cell_type": "code",
   "execution_count": null,
   "metadata": {
    "collapsed": true
   },
   "outputs": [],
   "source": [
    "!mkdir raw_reads"
   ]
  },
  {
   "cell_type": "code",
   "execution_count": 2,
   "metadata": {
    "collapsed": false
   },
   "outputs": [
    {
     "name": "stdout",
     "output_type": "stream",
     "text": [
      "/home/working/raw_reads\n"
     ]
    }
   ],
   "source": [
    "cd raw_reads/"
   ]
  },
  {
   "cell_type": "code",
   "execution_count": null,
   "metadata": {
    "collapsed": true
   },
   "outputs": [],
   "source": [
    "\n",
    "%%bash\n",
    "\n",
    "for s in $(cat ../supplementary_data/Sample_accessions.tsv | sed 's/\\t/,/g' | grep \"SRA_accession\" -v)\n",
    "do \n",
    "    id=$(echo $s | cut -d \",\" -f 1)\n",
    "    accession=$(echo $s | cut -d \",\" -f 3)\n",
    "    marker=$(echo $s | cut -d \",\" -f 2)\n",
    "    echo -e \"$id\\t$accession\\t$marker\"\n",
    "    fastq-dump --split-files --gzip --defline-seq '@$ac-$sn/$ri' --defline-qual '+' $accession\n",
    "    mv $accession\\_1.fastq.gz $id-$marker\\_R1.fastq.gz\n",
    "    mv $accession\\_2.fastq.gz $id-$marker\\_R2.fastq.gz\n",
    "done"
   ]
  },
  {
   "cell_type": "markdown",
   "metadata": {},
   "source": [
    "__Double check if all files are there.__"
   ]
  },
  {
   "cell_type": "code",
   "execution_count": 3,
   "metadata": {
    "collapsed": false
   },
   "outputs": [
    {
     "name": "stdout",
     "output_type": "stream",
     "text": [
      "T1-1-1-12S_R1.fastq.gz\tT3-1-1-12S_R1.fastq.gz\tT5-1-1-12S_R1.fastq.gz\r\n",
      "T1-1-1-12S_R2.fastq.gz\tT3-1-1-12S_R2.fastq.gz\tT5-1-1-12S_R2.fastq.gz\r\n",
      "T1-1-2-12S_R1.fastq.gz\tT3-1-2-12S_R1.fastq.gz\tT5-1-2-12S_R1.fastq.gz\r\n",
      "T1-1-2-12S_R2.fastq.gz\tT3-1-2-12S_R2.fastq.gz\tT5-1-2-12S_R2.fastq.gz\r\n",
      "T1-1-3-12S_R1.fastq.gz\tT3-1-3-12S_R1.fastq.gz\tT5-1-3-12S_R1.fastq.gz\r\n",
      "T1-1-3-12S_R2.fastq.gz\tT3-1-3-12S_R2.fastq.gz\tT5-1-3-12S_R2.fastq.gz\r\n",
      "T1-1-4-12S_R1.fastq.gz\tT3-1-4-12S_R1.fastq.gz\tT5-1-4-12S_R1.fastq.gz\r\n",
      "T1-1-4-12S_R2.fastq.gz\tT3-1-4-12S_R2.fastq.gz\tT5-1-4-12S_R2.fastq.gz\r\n",
      "T1-1-5-12S_R1.fastq.gz\tT3-1-5-12S_R1.fastq.gz\tT5-1-5-12S_R1.fastq.gz\r\n",
      "T1-1-5-12S_R2.fastq.gz\tT3-1-5-12S_R2.fastq.gz\tT5-1-5-12S_R2.fastq.gz\r\n",
      "T1-2-1-12S_R1.fastq.gz\tT3-2-1-12S_R1.fastq.gz\tT5-2-1-12S_R1.fastq.gz\r\n",
      "T1-2-1-12S_R2.fastq.gz\tT3-2-1-12S_R2.fastq.gz\tT5-2-1-12S_R2.fastq.gz\r\n",
      "T1-2-2-12S_R1.fastq.gz\tT3-2-2-12S_R1.fastq.gz\tT5-2-2-12S_R1.fastq.gz\r\n",
      "T1-2-2-12S_R2.fastq.gz\tT3-2-2-12S_R2.fastq.gz\tT5-2-2-12S_R2.fastq.gz\r\n",
      "T1-2-3-12S_R1.fastq.gz\tT3-2-3-12S_R1.fastq.gz\tT5-2-3-12S_R1.fastq.gz\r\n",
      "T1-2-3-12S_R2.fastq.gz\tT3-2-3-12S_R2.fastq.gz\tT5-2-3-12S_R2.fastq.gz\r\n",
      "T1-2-4-12S_R1.fastq.gz\tT3-2-4-12S_R1.fastq.gz\tT5-2-4-12S_R1.fastq.gz\r\n",
      "T1-2-4-12S_R2.fastq.gz\tT3-2-4-12S_R2.fastq.gz\tT5-2-4-12S_R2.fastq.gz\r\n",
      "T1-2-5-12S_R1.fastq.gz\tT3-2-5-12S_R1.fastq.gz\tT5-2-5-12S_R1.fastq.gz\r\n",
      "T1-2-5-12S_R2.fastq.gz\tT3-2-5-12S_R2.fastq.gz\tT5-2-5-12S_R2.fastq.gz\r\n",
      "T1-3-1-12S_R1.fastq.gz\tT3-3-1-12S_R1.fastq.gz\tT5-3-1-12S_R1.fastq.gz\r\n",
      "T1-3-1-12S_R2.fastq.gz\tT3-3-1-12S_R2.fastq.gz\tT5-3-1-12S_R2.fastq.gz\r\n",
      "T1-3-2-12S_R1.fastq.gz\tT3-3-2-12S_R1.fastq.gz\tT5-3-2-12S_R1.fastq.gz\r\n",
      "T1-3-2-12S_R2.fastq.gz\tT3-3-2-12S_R2.fastq.gz\tT5-3-2-12S_R2.fastq.gz\r\n",
      "T1-3-3-12S_R1.fastq.gz\tT3-3-3-12S_R1.fastq.gz\tT5-3-3-12S_R1.fastq.gz\r\n",
      "T1-3-3-12S_R2.fastq.gz\tT3-3-3-12S_R2.fastq.gz\tT5-3-3-12S_R2.fastq.gz\r\n",
      "T1-3-4-12S_R1.fastq.gz\tT3-3-4-12S_R1.fastq.gz\tT5-3-4-12S_R1.fastq.gz\r\n",
      "T1-3-4-12S_R2.fastq.gz\tT3-3-4-12S_R2.fastq.gz\tT5-3-4-12S_R2.fastq.gz\r\n",
      "T1-3-5-12S_R1.fastq.gz\tT3-3-5-12S_R1.fastq.gz\tT5-3-5-12S_R1.fastq.gz\r\n",
      "T1-3-5-12S_R2.fastq.gz\tT3-3-5-12S_R2.fastq.gz\tT5-3-5-12S_R2.fastq.gz\r\n",
      "T1-4-1-12S_R1.fastq.gz\tT3-4-1-12S_R1.fastq.gz\tT5-4-1-12S_R1.fastq.gz\r\n",
      "T1-4-1-12S_R2.fastq.gz\tT3-4-1-12S_R2.fastq.gz\tT5-4-1-12S_R2.fastq.gz\r\n",
      "T1-4-2-12S_R1.fastq.gz\tT3-4-2-12S_R1.fastq.gz\tT5-4-2-12S_R1.fastq.gz\r\n",
      "T1-4-2-12S_R2.fastq.gz\tT3-4-2-12S_R2.fastq.gz\tT5-4-2-12S_R2.fastq.gz\r\n",
      "T1-4-3-12S_R1.fastq.gz\tT3-4-3-12S_R1.fastq.gz\tT5-4-3-12S_R1.fastq.gz\r\n",
      "T1-4-3-12S_R2.fastq.gz\tT3-4-3-12S_R2.fastq.gz\tT5-4-3-12S_R2.fastq.gz\r\n",
      "T1-4-4-12S_R1.fastq.gz\tT3-4-4-12S_R1.fastq.gz\tT5-4-4-12S_R1.fastq.gz\r\n",
      "T1-4-4-12S_R2.fastq.gz\tT3-4-4-12S_R2.fastq.gz\tT5-4-4-12S_R2.fastq.gz\r\n",
      "T1-4-5-12S_R1.fastq.gz\tT3-4-5-12S_R1.fastq.gz\tT5-4-5-12S_R1.fastq.gz\r\n",
      "T1-4-5-12S_R2.fastq.gz\tT3-4-5-12S_R2.fastq.gz\tT5-4-5-12S_R2.fastq.gz\r\n",
      "T2-1-1-12S_R1.fastq.gz\tT4-1-1-12S_R1.fastq.gz\tTP5-1-1-12S_R1.fastq.gz\r\n",
      "T2-1-1-12S_R2.fastq.gz\tT4-1-1-12S_R2.fastq.gz\tTP5-1-1-12S_R2.fastq.gz\r\n",
      "T2-1-2-12S_R1.fastq.gz\tT4-1-2-12S_R1.fastq.gz\tTP5-1-2-12S_R1.fastq.gz\r\n",
      "T2-1-2-12S_R2.fastq.gz\tT4-1-2-12S_R2.fastq.gz\tTP5-1-2-12S_R2.fastq.gz\r\n",
      "T2-1-3-12S_R1.fastq.gz\tT4-1-3-12S_R1.fastq.gz\tTP5-1-3-12S_R1.fastq.gz\r\n",
      "T2-1-3-12S_R2.fastq.gz\tT4-1-3-12S_R2.fastq.gz\tTP5-1-3-12S_R2.fastq.gz\r\n",
      "T2-1-4-12S_R1.fastq.gz\tT4-1-4-12S_R1.fastq.gz\tTP5-1-4-12S_R1.fastq.gz\r\n",
      "T2-1-4-12S_R2.fastq.gz\tT4-1-4-12S_R2.fastq.gz\tTP5-1-4-12S_R2.fastq.gz\r\n",
      "T2-1-5-12S_R1.fastq.gz\tT4-1-5-12S_R1.fastq.gz\tTP5-1-5-12S_R1.fastq.gz\r\n",
      "T2-1-5-12S_R2.fastq.gz\tT4-1-5-12S_R2.fastq.gz\tTP5-1-5-12S_R2.fastq.gz\r\n",
      "T2-2-1-12S_R1.fastq.gz\tT4-2-1-12S_R1.fastq.gz\tTP5-2-1-12S_R1.fastq.gz\r\n",
      "T2-2-1-12S_R2.fastq.gz\tT4-2-1-12S_R2.fastq.gz\tTP5-2-1-12S_R2.fastq.gz\r\n",
      "T2-2-2-12S_R1.fastq.gz\tT4-2-2-12S_R1.fastq.gz\tTP5-2-2-12S_R1.fastq.gz\r\n",
      "T2-2-2-12S_R2.fastq.gz\tT4-2-2-12S_R2.fastq.gz\tTP5-2-2-12S_R2.fastq.gz\r\n",
      "T2-2-3-12S_R1.fastq.gz\tT4-2-3-12S_R1.fastq.gz\tTP5-2-3-12S_R1.fastq.gz\r\n",
      "T2-2-3-12S_R2.fastq.gz\tT4-2-3-12S_R2.fastq.gz\tTP5-2-3-12S_R2.fastq.gz\r\n",
      "T2-2-4-12S_R1.fastq.gz\tT4-2-4-12S_R1.fastq.gz\tTP5-2-4-12S_R1.fastq.gz\r\n",
      "T2-2-4-12S_R2.fastq.gz\tT4-2-4-12S_R2.fastq.gz\tTP5-2-4-12S_R2.fastq.gz\r\n",
      "T2-2-5-12S_R1.fastq.gz\tT4-2-5-12S_R1.fastq.gz\tTP5-2-5-12S_R1.fastq.gz\r\n",
      "T2-2-5-12S_R2.fastq.gz\tT4-2-5-12S_R2.fastq.gz\tTP5-2-5-12S_R2.fastq.gz\r\n",
      "T2-3-1-12S_R1.fastq.gz\tT4-3-1-12S_R1.fastq.gz\tTP5-3-1-12S_R1.fastq.gz\r\n",
      "T2-3-1-12S_R2.fastq.gz\tT4-3-1-12S_R2.fastq.gz\tTP5-3-1-12S_R2.fastq.gz\r\n",
      "T2-3-2-12S_R1.fastq.gz\tT4-3-2-12S_R1.fastq.gz\tTP5-3-2-12S_R1.fastq.gz\r\n",
      "T2-3-2-12S_R2.fastq.gz\tT4-3-2-12S_R2.fastq.gz\tTP5-3-2-12S_R2.fastq.gz\r\n",
      "T2-3-3-12S_R1.fastq.gz\tT4-3-3-12S_R1.fastq.gz\tTP5-3-3-12S_R1.fastq.gz\r\n",
      "T2-3-3-12S_R2.fastq.gz\tT4-3-3-12S_R2.fastq.gz\tTP5-3-3-12S_R2.fastq.gz\r\n",
      "T2-3-4-12S_R1.fastq.gz\tT4-3-4-12S_R1.fastq.gz\tTP5-3-4-12S_R1.fastq.gz\r\n",
      "T2-3-4-12S_R2.fastq.gz\tT4-3-4-12S_R2.fastq.gz\tTP5-3-4-12S_R2.fastq.gz\r\n",
      "T2-3-5-12S_R1.fastq.gz\tT4-3-5-12S_R1.fastq.gz\tTP5-3-5-12S_R1.fastq.gz\r\n",
      "T2-3-5-12S_R2.fastq.gz\tT4-3-5-12S_R2.fastq.gz\tTP5-3-5-12S_R2.fastq.gz\r\n",
      "T2-4-1-12S_R1.fastq.gz\tT4-4-1-12S_R1.fastq.gz\tTP5-4-1-12S_R1.fastq.gz\r\n",
      "T2-4-1-12S_R2.fastq.gz\tT4-4-1-12S_R2.fastq.gz\tTP5-4-1-12S_R2.fastq.gz\r\n",
      "T2-4-2-12S_R1.fastq.gz\tT4-4-2-12S_R1.fastq.gz\tTP5-4-2-12S_R1.fastq.gz\r\n",
      "T2-4-2-12S_R2.fastq.gz\tT4-4-2-12S_R2.fastq.gz\tTP5-4-2-12S_R2.fastq.gz\r\n",
      "T2-4-3-12S_R1.fastq.gz\tT4-4-3-12S_R1.fastq.gz\tTP5-4-3-12S_R1.fastq.gz\r\n",
      "T2-4-3-12S_R2.fastq.gz\tT4-4-3-12S_R2.fastq.gz\tTP5-4-3-12S_R2.fastq.gz\r\n",
      "T2-4-4-12S_R1.fastq.gz\tT4-4-4-12S_R1.fastq.gz\tTP5-4-4-12S_R1.fastq.gz\r\n",
      "T2-4-4-12S_R2.fastq.gz\tT4-4-4-12S_R2.fastq.gz\tTP5-4-4-12S_R2.fastq.gz\r\n",
      "T2-4-5-12S_R1.fastq.gz\tT4-4-5-12S_R1.fastq.gz\tTP5-4-5-12S_R1.fastq.gz\r\n",
      "T2-4-5-12S_R2.fastq.gz\tT4-4-5-12S_R2.fastq.gz\tTP5-4-5-12S_R2.fastq.gz\r\n"
     ]
    }
   ],
   "source": [
    "!ls"
   ]
  },
  {
   "cell_type": "code",
   "execution_count": null,
   "metadata": {
    "collapsed": true
   },
   "outputs": [],
   "source": []
  }
 ],
 "metadata": {
  "kernelspec": {
   "display_name": "Python 2",
   "language": "python",
   "name": "python2"
  },
  "language_info": {
   "codemirror_mode": {
    "name": "ipython",
    "version": 2
   },
   "file_extension": ".py",
   "mimetype": "text/x-python",
   "name": "python",
   "nbconvert_exporter": "python",
   "pygments_lexer": "ipython2",
   "version": "2.7.6"
  }
 },
 "nbformat": 4,
 "nbformat_minor": 0
}
